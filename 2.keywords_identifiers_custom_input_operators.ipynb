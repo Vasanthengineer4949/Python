{
 "cells": [
  {
   "cell_type": "markdown",
   "source": [
    "# This notebook covers the concepts: keywords, identifiers, custom user input and operators"
   ],
   "metadata": {}
  },
  {
   "cell_type": "markdown",
   "source": [
    "# KEYWORDS"
   ],
   "metadata": {}
  },
  {
   "cell_type": "markdown",
   "source": [
    "* Keywords are reserved words which means we cannot use keyword as a variable or function name.\r\n",
    "* The keywords are used to define the syntax of the program. These keywords are pre-programmed to do some certain jobs.\r\n",
    "* In Python keywords are case sensitive.\r\n",
    "* There are around 33 keywords in Python3.7 version\r\n",
    "* For example : if, elif, for, while, return, and, or, in, etc.."
   ],
   "metadata": {}
  },
  {
   "cell_type": "code",
   "execution_count": null,
   "source": [],
   "outputs": [],
   "metadata": {}
  },
  {
   "cell_type": "markdown",
   "source": [
    "# IDENTIFIERS"
   ],
   "metadata": {}
  },
  {
   "cell_type": "markdown",
   "source": [
    "* An identifier is any name given to class, function, even variables, etc..\r\n",
    "* It helps us to differentiate one entity from other\r\n",
    "* Rules for defining an identifier is same as defining variable"
   ],
   "metadata": {}
  },
  {
   "cell_type": "code",
   "execution_count": null,
   "source": [],
   "outputs": [],
   "metadata": {}
  },
  {
   "cell_type": "markdown",
   "source": [
    "# CUSTOM INPUT"
   ],
   "metadata": {}
  },
  {
   "cell_type": "markdown",
   "source": [
    "* In real world inputs are going to be user driven. So it is needed to know how to get an input from an user.\r\n",
    "* In Python custom input can be fetched from an user by using the `input()` function\r\n",
    "* Inside the bracket of the input function if we want to mention any input message it can be entered there within double quotes\r\n",
    "* Based on the datatype of the input we get we can change the desired datatype by type casting\r\n",
    "* If no datatype is mentioned it is default to string datatype\r\n"
   ],
   "metadata": {}
  },
  {
   "cell_type": "code",
   "execution_count": null,
   "source": [],
   "outputs": [],
   "metadata": {}
  },
  {
   "cell_type": "markdown",
   "source": [
    "# OPERATORS"
   ],
   "metadata": {}
  },
  {
   "cell_type": "markdown",
   "source": [
    "## INTRODUCTION"
   ],
   "metadata": {}
  },
  {
   "cell_type": "markdown",
   "source": [
    "* **Operators** are special symbol which are programmed to perform some specific calculation be it\r\n",
    "* artithmetic, logical, etc..\r\n",
    "* The value that the operator mainpulates is called **operand**\r\n",
    "* For example: Addition operation => 5 + 2 = 7\r\n",
    "* Here **5 and 2** are **operands** and **+** is **operator**\r\n",
    "* There are 7 different types of operators in Python. They are:\r\n",
    "    + Arithmetic\r\n",
    "    + Comparison\r\n",
    "    + Assignment\r\n",
    "    + Logical\r\n",
    "    + Membership\r\n",
    "    + Identity\r\n",
    "    + Bitwise\r\n",
    "\r\n",
    "<img src = \"Images\\operators.png\" style=\"width:1000px; height:220px\"/>"
   ],
   "metadata": {}
  },
  {
   "cell_type": "markdown",
   "source": [
    "## ARITHMETIC"
   ],
   "metadata": {}
  },
  {
   "cell_type": "markdown",
   "source": [
    "* In Python arithmetic operators are operators which will make us able to perform some basic operations like addition, subtraction, etc…\r\n",
    "* For example: \r\n",
    "    + Addition operation => 51 + 12 = 63\r\n"
   ],
   "metadata": {}
  },
  {
   "cell_type": "markdown",
   "source": [
    "| Operator | Operator Description |\r\n",
    "| --- | --- |\r\n",
    "| Addition (+) | Adds two operands |\r\n",
    "| Subtraction (-) | Subtracts right operand from left |\r\n",
    "| Multiplication (*) | Multiplies two operands |\r\n",
    "| Division (/) | Divides left operand by the right |\r\n",
    "| Modulus (%) | Returns Remainder of division operation |\r\n",
    "| Floor division (//) | Returns Quotient of division operation |\r\n",
    "| Exponential (**) | Left operand is raised to the power of right |\r\n"
   ],
   "metadata": {}
  },
  {
   "cell_type": "code",
   "execution_count": null,
   "source": [],
   "outputs": [],
   "metadata": {}
  },
  {
   "cell_type": "markdown",
   "source": [
    "## COMPARISON"
   ],
   "metadata": {}
  },
  {
   "cell_type": "markdown",
   "source": [
    "* In Python, comparison operators are operators as the name suggests which will help us able to perform comparison operations like greater than or lesser than\r\n",
    "* For example: \r\n",
    "    + Greater than operation => 5 > 3 = True\r\n",
    "\t+ Here as 51 is greater than 3 the output will return True or else False"
   ],
   "metadata": {}
  },
  {
   "cell_type": "markdown",
   "source": [
    "| Operator | Operator Description |\r\n",
    "| --- | --- |\r\n",
    "| Equal to(==) | Returns True if left operand is equal to right |\r\n",
    "| Lesser than(<) | Returns True if left operand is leser than right |\r\n",
    "| Greater than (>) | Returns True if left operand is leser than right |\r\n",
    "| Not equal to (!=) | Returns True if both operands are not equal |\r\n",
    "| Lesser than or equal to (<=) | Returns True if left operand is lesser than or equal to right |\r\n",
    "| Greater than or equal to (>) | Returns True if left operand is greater than or equal to right |\r\n",
    "\r\n"
   ],
   "metadata": {}
  },
  {
   "cell_type": "code",
   "execution_count": null,
   "source": [],
   "outputs": [],
   "metadata": {}
  },
  {
   "cell_type": "markdown",
   "source": [
    "## ASSIGNMENT"
   ],
   "metadata": {}
  },
  {
   "cell_type": "markdown",
   "source": [
    "* In Python, assignment operators are operators which is use to perform some operations we discussed before and assign it from right to left\r\n",
    "* For example: a+=1\r\n",
    "* Here it means a = a + 1. It does a calculation of right take a = 1 so it does 1 + 1 = 2 and assign a = 2\r\n",
    "* **Note: Similarly it can be used with all other operators also**\r\n",
    "\r\n"
   ],
   "metadata": {}
  },
  {
   "cell_type": "code",
   "execution_count": null,
   "source": [],
   "outputs": [],
   "metadata": {}
  },
  {
   "cell_type": "markdown",
   "source": [
    "## LOGICAL"
   ],
   "metadata": {}
  },
  {
   "cell_type": "markdown",
   "source": [
    "* In Python Logical operators is used to operate Boolean values which is True or False\r\n",
    "\r\n",
    "| Operator | Operator Description |\r\n",
    "| --- | --- |\r\n",
    "| and | Returns True if both the operands are true |\r\n",
    "| or | Returns True if either of the operands is true |\r\n",
    "| not | Returns True if operand is false |"
   ],
   "metadata": {}
  },
  {
   "cell_type": "code",
   "execution_count": null,
   "source": [],
   "outputs": [],
   "metadata": {}
  },
  {
   "cell_type": "markdown",
   "source": [
    "## MEMBERSHIP"
   ],
   "metadata": {}
  },
  {
   "cell_type": "markdown",
   "source": [
    "* Membership operators are one of the special operators. \r\n",
    "* It is used to check if a value is located in a sequence of values.\r\n",
    "* In a dictionary we can only test for presence of key, not the value. \r\n",
    "* It is done by using in and not in operator\r\n",
    "\r\n",
    "| Operator | Operator Description |\r\n",
    "| --- | --- |\r\n",
    "| in | Returns True if value/variable is found in the sequence |\r\n",
    "| not in | Returns True if value/variable is not found in the sequence |"
   ],
   "metadata": {}
  },
  {
   "cell_type": "code",
   "execution_count": null,
   "source": [],
   "outputs": [],
   "metadata": {}
  },
  {
   "cell_type": "markdown",
   "source": [
    "## IDENTITIY"
   ],
   "metadata": {}
  },
  {
   "cell_type": "markdown",
   "source": [
    "* Identity operators are one of the special operators. \r\n",
    "* It is used to check if two values are located in a same part of memory.\r\n",
    "* It is done by using is and is operator\r\n",
    "\r\n",
    "| Operator | Operator Description |\r\n",
    "| --- | --- |\r\n",
    "| is | Returns True if the operands are identical |\r\n",
    "| is not | Returns True if the operands are not identical |"
   ],
   "metadata": {}
  },
  {
   "cell_type": "code",
   "execution_count": null,
   "source": [],
   "outputs": [],
   "metadata": {}
  }
 ],
 "metadata": {
  "orig_nbformat": 4,
  "language_info": {
   "name": "python"
  }
 },
 "nbformat": 4,
 "nbformat_minor": 2
}