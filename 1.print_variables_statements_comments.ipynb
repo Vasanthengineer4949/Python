{
 "cells": [
  {
   "cell_type": "markdown",
   "source": [
    "# This file is for understanding about the basic print statement, variable and constants"
   ],
   "metadata": {}
  },
  {
   "cell_type": "markdown",
   "source": [
    "## PRINT STATEMENT"
   ],
   "metadata": {}
  },
  {
   "cell_type": "markdown",
   "source": [
    "### Type 1 - Print Statement with single quotes\r\n",
    "This statement prints whatever is mentioned between the single quotes"
   ],
   "metadata": {}
  },
  {
   "cell_type": "code",
   "execution_count": 8,
   "source": [
    "print('Hi everyone. Welcome to NEURAL HACKS WITH VASANTH')"
   ],
   "outputs": [
    {
     "output_type": "stream",
     "name": "stdout",
     "text": [
      "Hi everyone. Welcome to NEURAL HACKS WITH VASANTH\n"
     ]
    }
   ],
   "metadata": {}
  },
  {
   "cell_type": "markdown",
   "source": [
    "### Type 2 - Print Statement with double quotes\r\n",
    "This statement prints whatever is mentioned between the double quotes"
   ],
   "metadata": {}
  },
  {
   "cell_type": "code",
   "execution_count": 2,
   "source": [
    "print(\"Hi everyone. Welcome to NEURAL HACKS WITH VASANTH\")"
   ],
   "outputs": [
    {
     "output_type": "stream",
     "name": "stdout",
     "text": [
      "Hi everyone. Welcome to NEURAL HACKS WITH VASANTH\n"
     ]
    }
   ],
   "metadata": {}
  },
  {
   "cell_type": "markdown",
   "source": [
    "### Type 3 - Print Statement for multilines with triple quotes(three single or double quotes) \r\n",
    "This statement prints whatever is mentioned between the triple quotes"
   ],
   "metadata": {}
  },
  {
   "cell_type": "markdown",
   "source": [],
   "metadata": {}
  },
  {
   "cell_type": "code",
   "execution_count": 6,
   "source": [
    "print(\"\"\"Hi everyone. \r\n",
    "Welcome to NEURAL HACKS WITH VASANTH\"\"\")"
   ],
   "outputs": [
    {
     "output_type": "stream",
     "name": "stdout",
     "text": [
      "Hi everyone. \n",
      "Welcome to NEURAL HACKS WITH VASANTH\n"
     ]
    }
   ],
   "metadata": {}
  },
  {
   "cell_type": "code",
   "execution_count": 7,
   "source": [
    "print('''Hi everyone. \r\n",
    "Welcome to NEURAL HACKS WITH VASANTH''')"
   ],
   "outputs": [
    {
     "output_type": "stream",
     "name": "stdout",
     "text": [
      "Hi everyone. \n",
      "Welcome to NEURAL HACKS WITH VASANTH\n"
     ]
    }
   ],
   "metadata": {}
  },
  {
   "cell_type": "markdown",
   "source": [
    "### Type 4 - Print Statement for numbers without quotes \r\n",
    "This statement prints whatever number is written"
   ],
   "metadata": {}
  },
  {
   "cell_type": "code",
   "execution_count": 9,
   "source": [
    "print(5)"
   ],
   "outputs": [
    {
     "output_type": "stream",
     "name": "stdout",
     "text": [
      "5\n"
     ]
    }
   ],
   "metadata": {}
  },
  {
   "cell_type": "markdown",
   "source": [
    "### Type 5 - Print statement with multiple types of values using, operator"
   ],
   "metadata": {}
  },
  {
   "cell_type": "code",
   "execution_count": 10,
   "source": [
    "print(\"Hi everyone. Welcome to NEURAL HACKS WITH VASANTH\", 5)"
   ],
   "outputs": [
    {
     "output_type": "stream",
     "name": "stdout",
     "text": [
      "Hi everyone. Welcome to NEURAL HACKS WITH VASANTH 5\n"
     ]
    }
   ],
   "metadata": {}
  },
  {
   "cell_type": "markdown",
   "source": [
    "### Type 6 - Using format method\r\n",
    "When we want to print some values in between sentences of print statement we can use it.\r\n",
    "Here the values will be printed at the place of {} curly braces in order of variables in format"
   ],
   "metadata": {}
  },
  {
   "cell_type": "code",
   "execution_count": 1,
   "source": [
    "basket = 1\r\n",
    "basketQuantity = 5\r\n",
    "print(\"I have {} basket and it has {} items\".format(basket, basketQuantity))"
   ],
   "outputs": [
    {
     "output_type": "stream",
     "name": "stdout",
     "text": [
      "I have 1 basket and it has 5 items\n"
     ]
    }
   ],
   "metadata": {}
  },
  {
   "cell_type": "code",
   "execution_count": null,
   "source": [],
   "outputs": [],
   "metadata": {}
  },
  {
   "cell_type": "markdown",
   "source": [],
   "metadata": {}
  },
  {
   "cell_type": "markdown",
   "source": [
    "## VARIABLES"
   ],
   "metadata": {}
  },
  {
   "cell_type": "markdown",
   "source": [
    "### A variable can be said as a container which is capable of storing of any value of a specific type in a specific memory location.\r\n",
    "### For example we can consider a basket which contains fruits. Here basket is the variable and the fruits is the value"
   ],
   "metadata": {}
  },
  {
   "cell_type": "code",
   "execution_count": 2,
   "source": [
    "basket = \"fruits\"\r\n",
    "basketquantity = 6\r\n",
    "print(basket, \"= \",basketquantity)"
   ],
   "outputs": [
    {
     "output_type": "stream",
     "name": "stdout",
     "text": [
      "fruits =  6\n"
     ]
    }
   ],
   "metadata": {}
  },
  {
   "cell_type": "markdown",
   "source": [
    "### As the name suggests the value of a variable can be changed whenever needed."
   ],
   "metadata": {}
  },
  {
   "cell_type": "code",
   "execution_count": 3,
   "source": [
    "basket = \"vegetables\"\r\n",
    "basketquantity = 5\r\n",
    "print(basket, \"= \",basketquantity)"
   ],
   "outputs": [
    {
     "output_type": "stream",
     "name": "stdout",
     "text": [
      "vegetables =  5\n"
     ]
    }
   ],
   "metadata": {}
  },
  {
   "cell_type": "markdown",
   "source": [
    "### We can also assign to multiple values to multiple variables at the same time by using commas.\r\n",
    "### Here now the value fruits&vegetables will get assigned to basket and 11 to basket quantity"
   ],
   "metadata": {}
  },
  {
   "cell_type": "code",
   "execution_count": 4,
   "source": [
    "basket, basketquantity = \"fruits&vegetables\", 11\r\n",
    "print(basket, \"= \",basketquantity)"
   ],
   "outputs": [
    {
     "output_type": "stream",
     "name": "stdout",
     "text": [
      "fruits&vegetables =  11\n"
     ]
    }
   ],
   "metadata": {}
  },
  {
   "cell_type": "markdown",
   "source": [],
   "metadata": {}
  },
  {
   "cell_type": "markdown",
   "source": [
    "## CONSTANTS"
   ],
   "metadata": {}
  },
  {
   "cell_type": "markdown",
   "source": [
    "### A constant is a type of variable whose value cannot be changed\r\n",
    "### For example a specific car having specific tire size which can't be changed later\r\n",
    "### Usually a constant is declared and assigned in a separate module. It is written in capital letters and underscores separating the words"
   ],
   "metadata": {}
  },
  {
   "cell_type": "code",
   "execution_count": 5,
   "source": [
    "import constantexample\r\n",
    "print(constantexample.CHENNAILOCATION)\r\n",
    "print(constantexample.DELHILOCATION)"
   ],
   "outputs": [
    {
     "output_type": "stream",
     "name": "stdout",
     "text": [
      "TamilNadu\n",
      "Delhi/Haryana\n"
     ]
    }
   ],
   "metadata": {}
  },
  {
   "cell_type": "markdown",
   "source": [
    "## RULES FOR DEFINING VARIABLES AND CONSTANTS"
   ],
   "metadata": {}
  },
  {
   "cell_type": "markdown",
   "source": [
    "### A variable or constant cannot start with a digit"
   ],
   "metadata": {}
  },
  {
   "cell_type": "code",
   "execution_count": 6,
   "source": [
    "Vasanth51430 = \"Data Science Enthusiast\" #Correct\r\n",
    "#51430Vasanth = \"Data Science Enthusiast\" #Wrong"
   ],
   "outputs": [],
   "metadata": {}
  },
  {
   "cell_type": "markdown",
   "source": [
    "### A variable or constant having two words should be separated using underscores(_). Space is not allowed"
   ],
   "metadata": {}
  },
  {
   "cell_type": "code",
   "execution_count": 8,
   "source": [
    "Vasanth_P = \"Data Science Enthusiast\""
   ],
   "outputs": [],
   "metadata": {}
  },
  {
   "cell_type": "markdown",
   "source": [
    "### During definitions do not use special symbols  like !@#$%^&*()"
   ],
   "metadata": {}
  },
  {
   "cell_type": "code",
   "execution_count": 9,
   "source": [
    "Vasanth_P = \"Data Science Enthusiast\" #Correct\r\n",
    "#@$%$Vasanth_P = \"Data Science Enthusiast\" #Wrong"
   ],
   "outputs": [],
   "metadata": {}
  },
  {
   "cell_type": "markdown",
   "source": [
    "### A constant should be declared using capital letters for better identification"
   ],
   "metadata": {}
  },
  {
   "cell_type": "code",
   "execution_count": 10,
   "source": [
    "VASANTH = \"Youtuber\""
   ],
   "outputs": [],
   "metadata": {}
  },
  {
   "cell_type": "markdown",
   "source": [
    "## STATEMENTS"
   ],
   "metadata": {}
  },
  {
   "cell_type": "markdown",
   "source": [
    "### Statement can be defined as an instruction which Python interpreter can execute.\r\n",
    "### This is a single line statement"
   ],
   "metadata": {}
  },
  {
   "cell_type": "code",
   "execution_count": 11,
   "source": [
    "basketQuantity = 5  \r\n",
    "print(\"basket\", \"= \", basketQuantity)"
   ],
   "outputs": [
    {
     "output_type": "stream",
     "name": "stdout",
     "text": [
      "basket =  5\n"
     ]
    }
   ],
   "metadata": {}
  },
  {
   "cell_type": "markdown",
   "source": [
    "### Multiline statements can also be written in Python by using an explicit operator - (\\) backslash which is called as\r\n",
    "### Line continuation character.\r\n",
    "### For example we can consider a bag which contains three notebooks, four textbooks, 1 box, 1 bottle."
   ],
   "metadata": {}
  },
  {
   "cell_type": "code",
   "execution_count": 12,
   "source": [
    "totalItems = 3 + 4 + \\\r\n",
    "             1 + 1 \r\n",
    "print(totalItems)"
   ],
   "outputs": [
    {
     "output_type": "stream",
     "name": "stdout",
     "text": [
      "9\n"
     ]
    }
   ],
   "metadata": {}
  },
  {
   "cell_type": "markdown",
   "source": [
    "## COMMENTS\r\n"
   ],
   "metadata": {}
  },
  {
   "cell_type": "markdown",
   "source": [
    "### Knowing about comments is very important. Comments are statements which are not executed by the Python Interpreter.\r\n",
    "### For example now also for better explanation I am also using comments now.\r\n",
    "### These are used for documentation and better understanding\r\n",
    "### In Python comments can be created using (#) hash symbol"
   ],
   "metadata": {}
  },
  {
   "cell_type": "markdown",
   "source": [],
   "metadata": {}
  }
 ],
 "metadata": {
  "orig_nbformat": 4,
  "language_info": {
   "name": "python",
   "version": "3.6.12",
   "mimetype": "text/x-python",
   "codemirror_mode": {
    "name": "ipython",
    "version": 3
   },
   "pygments_lexer": "ipython3",
   "nbconvert_exporter": "python",
   "file_extension": ".py"
  },
  "kernelspec": {
   "name": "python3",
   "display_name": "Python 3.6.12 64-bit ('RainPrediction': conda)"
  },
  "interpreter": {
   "hash": "30b26264676c0fe34591067b2de1aab6f6b625c602adc8f9192b76bfa0b58a1a"
  }
 },
 "nbformat": 4,
 "nbformat_minor": 2
}